{
 "cells": [
  {
   "cell_type": "code",
   "execution_count": null,
   "id": "dc31fa38",
   "metadata": {},
   "outputs": [],
   "source": [
    "pip install pillow"
   ]
  },
  {
   "cell_type": "code",
   "execution_count": null,
   "id": "8e5b360f",
   "metadata": {},
   "outputs": [],
   "source": [
    "#import geoanalytics\n",
    "#import matplotlib.pyplot as plt\n",
    "#from IPython.display import display, HTML\n",
    "#import geoanalytics.sql.functions as ST\n",
    "#from geoanalytics.tools import AggregatePoints\n",
    "#from geoanalytics.tools import FindDwellLocations\n",
    "#from geoanalytics.tools import ReconstructTracks\n",
    "#from pyspark.sql.functions import *\n",
    "#from pyspark.sql import functions as F\n",
    "from IPython.display import display, Markdown\n",
    "from PIL import Image\n",
    "\n",
    "# geoanalytics.version()\n",
    "#geoanalytics.auth()"
   ]
  },
  {
   "cell_type": "code",
   "execution_count": null,
   "id": "b9baa6ba",
   "metadata": {},
   "outputs": [],
   "source": [
    "#def spark.read.parquet(\"s3://ga-engine-esri-es/v2/*.parquet\")/\n",
    "#.selectExpr(\"*\", \"ST_Point(Longitude, Latitude,4326) as SHAPE\").st.set_geometry_field(\"SHAPE\"). /\n",
    "#withColumn(\"timestamp\", to timestamp('#Timestamp',\"dd/MM/yyyy HH:mm:ss\")).st.set_time_field(\"timestamp\")\n",
    "#rows = df.count() \n",
    "print (\"Numero de filas: 10,981,590\")\n",
    "#cols = len(df.columns)\n",
    "print(\"Numero de columnas: 28\")"
   ]
  },
  {
   "cell_type": "code",
   "execution_count": null,
   "id": "55e83e91",
   "metadata": {},
   "outputs": [],
   "source": [
    "#df_proyectado = df.withColumn(\"SHAPE\", ST.transform(\"SHAPE\", 3857))\n",
    "\n",
    "#rows = df.count()\n",
    "print(\"Numero de filas: 10,981,590\")"
   ]
  },
  {
   "cell_type": "code",
   "execution_count": null,
   "id": "1f48ab91",
   "metadata": {},
   "outputs": [],
   "source": [
    "i_path = \"img2.png\"\n",
    "im = Image.open(i_path)\n",
    "display(im)"
   ]
  },
  {
   "cell_type": "code",
   "execution_count": null,
   "id": "048a3e37",
   "metadata": {},
   "outputs": [],
   "source": [
    "#resultt1k = AggregatePoints().setBins(bin_size=1000,bin_size_unit=\"Meters\",bin_type=\"Hexagon\").run(df_proyectado)\n",
    "#rows = result1k.count()\n",
    "#print(f\"Numero de filas : {rows:,}\")\n",
    "#cols = len(reuslt1k-columns)\n",
    "#print(f\"Numero de columnas: {cols}\")"
   ]
  },
  {
   "cell_type": "code",
   "execution_count": null,
   "id": "60520aa4",
   "metadata": {},
   "outputs": [],
   "source": [
    "print(\"Numero de filas: 726,234\")\n",
    "print(\"Numero de Columnas: 2\")"
   ]
  },
  {
   "cell_type": "code",
   "execution_count": null,
   "id": "2502ed6d",
   "metadata": {},
   "outputs": [],
   "source": [
    "i_path = \"img3.png\"\n",
    "im = Image.open(i_path)\n",
    "display(im)"
   ]
  },
  {
   "cell_type": "code",
   "execution_count": null,
   "id": "c8895bac",
   "metadata": {},
   "outputs": [],
   "source": [
    "#result_dwell FindDwellLocations().setTrackFields (\"Callsign\").setDistanceMethod(distance_method=\"Planar\").\\ \n",
    "#setDwellMaxDistance (max_distance=10, max_distance_unit=\"Meters\").\\\n",
    "#setDwellMinDuration (min_duration=12, min_duration_unit=\"hours\").\\ \n",
    "#setOutputType(output_type=\"DwellMeanCenters\").run(dataframe=port)\n",
    "\n",
    "#rows\n",
    "#result_dwell.count()\n",
    "#print (f\"Numero de filas (rows:,}\")\n",
    "#cols = len(result_dwell.columns)\n",
    "#print (f\"Numero de columnas {cols)\")\n",
    "i_path = \"img4.png\"\n",
    "im = Image.open(i_path)\n",
    "display(im)"
   ]
  },
  {
   "cell_type": "code",
   "execution_count": null,
   "id": "8acb7282",
   "metadata": {},
   "outputs": [],
   "source": [
    "#result_dwell.coalesce (1).write.format(\"shapefile\").mode(\"overwrite\").save(\"s3://ga-engine-esri-es/demo-telesig/dwell\")\n",
    "\n",
    " #%%%HTML\n",
    "#<iframe\n",
    "#src=\"https://www.arcgis.com/apps/mapviewer/index.html?webmap=1d6ddc8c4f464f8aa41d114ebe1afd30\" \\\n",
    "#style=\"border:0px #ffffff none;\" name=\"myiframe\" scrolling=\"no\" frameborder=\"0\" marginheight=\"0px\" marginwidth=\"0px\" \\ \n",
    "#height=\"650px\" width=\"1500px\" allowfullscreen></iframe>"
   ]
  },
  {
   "cell_type": "code",
   "execution_count": null,
   "id": "944f4591",
   "metadata": {},
   "outputs": [],
   "source": [
    "i_path = \"img5.png\"\n",
    "im = Image.open(i_path)\n",
    "display(im)"
   ]
  },
  {
   "cell_type": "code",
   "execution_count": null,
   "id": "99eeb3be",
   "metadata": {},
   "outputs": [],
   "source": [
    "#distinct_column = 'Callsign'\n",
    "\n",
    "#distinct_column_vals = result_dwell.select(distinct_column). distinct().collect() dcv = [] #for v in distinct_column_vals: #v = str(v) #a = v.split(\"=\") #dcv.append(str(a[1])[1:-2])\n",
    "\n",
    "#poi = df.filter(F.col(\"Callsign\").isin(dcv))\n",
    "\n",
    "#boundingbox = poi.selectExpr(\"Name\", \"SHAPE\", \"Callsign\",\"timestamp\",\\ \"ST_EnvIntersects (SHAPE, -4.781244,49.724480, #34.989264, 67.135830) as Filter\")\n",
    "\n",
    "#poiarea boundingbox.filter(boundingbox [ 'Filter'] == True)\n",
    "\n",
    "#tracks ReconstructTracks().setTrackFields(\"Callsign\").setDistanceMethod(distance_method=\"Planar\")\n",
    "#.setTimeBoundarySplit (time_boundary_split-24,time_boundary_split_unit='Hours', time_boundary_reference=None)\\ #.run(dataframe=poiarea)\n",
    "\n",
    "#rows #tracks.count() #print (f\"Numero de filas: {rows:,}\")"
   ]
  },
  {
   "cell_type": "code",
   "execution_count": null,
   "id": "4cda0908",
   "metadata": {},
   "outputs": [],
   "source": [
    "print(\"Numero de filas: 355\")"
   ]
  },
  {
   "cell_type": "code",
   "execution_count": null,
   "id": "b28630d8",
   "metadata": {},
   "outputs": [],
   "source": [
    "#tracks.coalesce(1).write.format(\"shapefile\").mode (\"overwrite\").save(\"s3://ga-engine-esri-es/demo-telesig/tracks\")\n",
    "\n",
    "#%%HTML\n",
    "#<iframe src=\"https://www.arcgis.com/apps/mapviewer/index.html?webmap=fe786e941ff44343991c5653b7a00f4b\" \\\n",
    "#style=\"border:0px #ffffff none;\" name=\"myiFrame\" scrolling=\"no\" frameborder=\"0\" marginheight=\"0px\" marginwidth=\"0px\" \\ \n",
    "#height=\"650px\" width=\"1500px\" allowfullscreen></iframe>\n"
   ]
  },
  {
   "cell_type": "code",
   "execution_count": null,
   "id": "2d8031b7",
   "metadata": {},
   "outputs": [],
   "source": [
    "#df_barco df_proyectado.filter(df[\"CALLSIGN\"]\n",
    "                              \n",
    "#rows = df_barco.count()\n",
    "#print (f\"Numero de filas {rows:,}\")\n",
    "                              \n",
    "#tracks_df_barco = ReconstructTracks().setTrackFields (\"CALLSIGN\").setDistanceMethod(distance_method=\"Planar\")\\ \n",
    "#.setTimeBoundarySplit (time_boundary_split =24, time_boundary_split_unit='Hours', time_boundary_reference=None)\\\n",
    "#.run(dataframe=df_barco)\n",
    "                              \n",
    "#rows tracks_df_barco.count()\n",
    "#print(f\"Numero de filas {rows:,}\")"
   ]
  },
  {
   "cell_type": "code",
   "execution_count": null,
   "id": "4f454bd8",
   "metadata": {},
   "outputs": [],
   "source": [
    "#PRINT\n",
    "print(\"Numero de filas: 70,702\")\n",
    "print(\"Numero de filas: 30\")\n",
    "#tracks_df_barco.coalesce(1).write.format(\"shapefile\"). mode (\"overwrite\").save(\"s3://ga-engine-esri-es/demo-telesig/tracks_21900745"
   ]
  },
  {
   "cell_type": "code",
   "execution_count": null,
   "id": "2362a7ba",
   "metadata": {},
   "outputs": [],
   "source": [
    "#url = \"https://services.arcgis.com/d3voDfTFbHOCRwVR/arcgis/rest/services/Europe_contours_pays/FeatureServer/0\" \n",
    "#paises_europa = spark.read.format(\"feature-service\").load(url)\n",
    "#axes = paises_europa.st.plot(facecolor=\"linen\", edgecolor=\"lightgray\", figsize=(15, 15), aspect=\"equal\")\n",
    "#axes.set(xlim=(925639, 1259471), ylim (7106784, 7395357))\n",
    "\n",
    "#tracks_df_barco.st.plot(ax=axes, aspect=\"equal\", edgecolor=\"magenta\")\n",
    "\n",
    "#%matplot plt"
   ]
  },
  {
   "cell_type": "code",
   "execution_count": null,
   "id": "3f7fb1fe",
   "metadata": {},
   "outputs": [],
   "source": [
    "i_path = \"img6.png\"\n",
    "im = Image.open(i_path)\n",
    "display(im)"
   ]
  },
  {
   "cell_type": "code",
   "execution_count": null,
   "id": "1e8691b5",
   "metadata": {},
   "outputs": [],
   "source": []
  }
 ],
 "metadata": {
  "kernelspec": {
   "display_name": "Python 3 (ipykernel)",
   "language": "python",
   "name": "python3"
  },
  "language_info": {
   "codemirror_mode": {
    "name": "ipython",
    "version": 3
   },
   "file_extension": ".py",
   "mimetype": "text/x-python",
   "name": "python",
   "nbconvert_exporter": "python",
   "pygments_lexer": "ipython3",
   "version": "3.11.3"
  }
 },
 "nbformat": 4,
 "nbformat_minor": 5
}
